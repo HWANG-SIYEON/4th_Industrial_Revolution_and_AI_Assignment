{
  "nbformat": 4,
  "nbformat_minor": 0,
  "metadata": {
    "colab": {
      "provenance": [],
      "gpuType": "T4"
    },
    "kernelspec": {
      "name": "python3",
      "display_name": "Python 3"
    },
    "language_info": {
      "name": "python"
    },
    "accelerator": "GPU"
  },
  "cells": [
    {
      "cell_type": "code",
      "source": [
        "# 라이브러리 로드\n",
        "import pandas as pd\n",
        "import numpy as np\n",
        "from sklearn.model_selection import train_test_split, GridSearchCV\n",
        "from sklearn.linear_model import LogisticRegression, LassoCV\n",
        "from sklearn.metrics import roc_auc_score, accuracy_score, f1_score, classification_report, precision_recall_curve\n",
        "from sklearn.preprocessing import StandardScaler\n",
        "from sklearn.utils import resample\n",
        "from imblearn.over_sampling import SMOTE\n",
        "\n",
        "# Google Drive에서 데이터 로드\n",
        "from google.colab import drive\n",
        "drive.mount('/content/gdrive')\n",
        "\n",
        "train_data = pd.read_csv(\"/content/gdrive/My Drive/ml/Training_diabetes_binary_health_indicators_BRFSS2015.csv\")\n",
        "test_data = pd.read_csv(\"/content/gdrive/My Drive/ml/Test_diabetes_binary_5050split_health_indicators_BRFSS2015.csv\")\n",
        "\n",
        "# 변수 선택\n",
        "necessary_features = ['Fruits', 'Veggies']\n",
        "reference_features = ['BMI', 'Smoker', 'Age', 'PhysActivity', 'Sex', 'Education', 'Income']\n",
        "target = 'Diabetes_binary'\n",
        "selected_features = necessary_features + reference_features\n",
        "\n",
        "train_data = train_data[[target] + selected_features]\n",
        "test_data = test_data[[target] + selected_features]\n",
        "\n",
        "# 데이터 분할\n",
        "X_train, X_val, y_train, y_val = train_test_split(\n",
        "    train_data[selected_features],\n",
        "    train_data[target],\n",
        "    test_size=0.3,\n",
        "    random_state=42\n",
        ")\n",
        "\n",
        "# SMOTE 비율 조정 (소수 클래스 비율을 0.75로 설정)\n",
        "smote = SMOTE(sampling_strategy=0.75, random_state=42)\n",
        "X_train, y_train = smote.fit_resample(X_train, y_train)\n",
        "\n",
        "# 특성 스케일링\n",
        "scaler = StandardScaler()\n",
        "X_train[selected_features] = scaler.fit_transform(X_train[selected_features])\n",
        "X_val[selected_features] = scaler.transform(X_val[selected_features])\n",
        "\n",
        "# 라쏘 교차검증으로 중요한 변수 선택\n",
        "lasso_model = LassoCV(cv=5, random_state=42)\n",
        "lasso_model.fit(X_train, y_train)\n",
        "lasso_selected_features = np.array(selected_features)[lasso_model.coef_ != 0]\n",
        "\n",
        "\n",
        "print(f\"Number of selected features by Lasso: {len(lasso_selected_features)}\")\n",
        "\n",
        "\n",
        "# 라쏘로 선택된 변수만 사용\n",
        "X_train_lasso = X_train[lasso_selected_features]\n",
        "X_val_lasso = X_val[lasso_selected_features]\n",
        "\n",
        "# Logistic Regression 하이퍼파라미터 튜닝\n",
        "param_grid = {'C': [0.01, 0.1, 1, 10, 100]}\n",
        "grid = GridSearchCV(LogisticRegression(max_iter=1000, random_state=42, class_weight='balanced'),\n",
        "                    param_grid, cv=5)\n",
        "grid.fit(X_train_lasso, y_train)\n",
        "\n",
        "print(f\"\\nBest C: {grid.best_params_['C']}\")\n",
        "\n",
        "# 최적의 하이퍼파라미터로 모델 학습\n",
        "best_model = grid.best_estimator_\n",
        "best_model.fit(X_train_lasso, y_train)\n",
        "\n",
        "# 검증 데이터에 대한 예측\n",
        "y_val_pred_proba = best_model.predict_proba(X_val_lasso)[:, 1]\n",
        "\n",
        "# Threshold 최적화\n",
        "thresholds = np.linspace(0.1, 0.9, 9)\n",
        "best_f1 = 0\n",
        "best_threshold = 0.5\n",
        "\n",
        "for threshold in thresholds:\n",
        "    y_val_pred_custom = (y_val_pred_proba >= threshold).astype(int)\n",
        "    f1 = f1_score(y_val, y_val_pred_custom)\n",
        "    if f1 > best_f1:\n",
        "        best_f1 = f1\n",
        "        best_threshold = threshold\n",
        "\n",
        "print(f\"\\nBest Threshold: {best_threshold}\")\n",
        "print(f\"Best F1 Score: {best_f1:.3f}\")\n",
        "\n",
        "# 최적화된 Threshold 적용\n",
        "y_val_pred = (y_val_pred_proba >= best_threshold).astype(int)\n",
        "\n",
        "# 최종 성능 평가\n",
        "auc_score = roc_auc_score(y_val, y_val_pred_proba)\n",
        "accuracy = accuracy_score(y_val, y_val_pred)\n",
        "f1 = f1_score(y_val, y_val_pred)\n",
        "\n",
        "print(\"\\nFinal Model Performance:\")\n",
        "print(f\"AUC: {auc_score:.3f}\")\n",
        "print(f\"Accuracy: {accuracy:.3f}\")\n",
        "print(f\"F1 Score: {f1:.3f}\")\n",
        "\n",
        "\n",
        "# 부트스트래핑\n",
        "bootstrap_iterations = 100\n",
        "bootstrap_scores = []\n",
        "\n",
        "for _ in range(bootstrap_iterations):\n",
        "    bootstrap_sample_X, bootstrap_sample_y = resample(X_val_lasso, y_val, random_state=42)\n",
        "    y_pred_proba = best_model.predict_proba(bootstrap_sample_X)[:, 1]\n",
        "    auc = roc_auc_score(bootstrap_sample_y, y_pred_proba)\n",
        "    bootstrap_scores.append(auc)\n",
        "\n",
        "mean_auc = np.mean(bootstrap_scores)\n",
        "std_auc = np.std(bootstrap_scores)\n",
        "\n",
        "print(\"\\nBootstrapping Results:\")\n",
        "print(f\"Mean AUC: {mean_auc:.3f}\")\n",
        "print(f\"AUC Standard Deviation: {std_auc:.3f}\")\n"
      ],
      "metadata": {
        "colab": {
          "base_uri": "https://localhost:8080/"
        },
        "id": "HaUiUFmpGUTs",
        "outputId": "e7a32898-6fa9-4137-92c4-549728722642"
      },
      "execution_count": 8,
      "outputs": [
        {
          "output_type": "stream",
          "name": "stdout",
          "text": [
            "Drive already mounted at /content/gdrive; to attempt to forcibly remount, call drive.mount(\"/content/gdrive\", force_remount=True).\n"
          ]
        },
        {
          "output_type": "stream",
          "name": "stderr",
          "text": [
            "/usr/local/lib/python3.10/dist-packages/sklearn/base.py:474: FutureWarning: `BaseEstimator._validate_data` is deprecated in 1.6 and will be removed in 1.7. Use `sklearn.utils.validation.validate_data` instead. This function becomes public and is part of the scikit-learn developer API.\n",
            "  warnings.warn(\n",
            "/usr/local/lib/python3.10/dist-packages/sklearn/utils/_tags.py:354: FutureWarning: The SMOTE or classes from which it inherits use `_get_tags` and `_more_tags`. Please define the `__sklearn_tags__` method, or inherit from `sklearn.base.BaseEstimator` and/or other appropriate mixins such as `sklearn.base.TransformerMixin`, `sklearn.base.ClassifierMixin`, `sklearn.base.RegressorMixin`, and `sklearn.base.OutlierMixin`. From scikit-learn 1.7, not defining `__sklearn_tags__` will raise an error.\n",
            "  warnings.warn(\n"
          ]
        },
        {
          "output_type": "stream",
          "name": "stdout",
          "text": [
            "Number of selected features by Lasso: 9\n",
            "\n",
            "Best C: 10\n",
            "\n",
            "Best Threshold: 0.6\n",
            "Best F1 Score: 0.389\n",
            "\n",
            "Final Model Performance:\n",
            "AUC: 0.765\n",
            "Accuracy: 0.769\n",
            "F1 Score: 0.389\n",
            "\n",
            "Bootstrapping Results:\n",
            "Mean AUC: 0.766\n",
            "AUC Standard Deviation: 0.000\n"
          ]
        }
      ]
    },
    {
      "cell_type": "markdown",
      "source": [
        "1. SMOTE 비율 조정: 소수 클래스(1)의 샘플을 다수 클래스(0)의 75%까지만 증강하여 클래스 간 균형을 맞춤\n",
        "2. 라쏘로 선택된 변수만 사용\n",
        "3. Threshold 최적화(기본 임계값(0.5) 최적화하여 F1 스코어가 최대가 되는 값을 찾음)\n",
        "4. 하이퍼파라미터 튜닝"
      ],
      "metadata": {
        "id": "Im4-l4HhHH9s"
      }
    }
  ]
}